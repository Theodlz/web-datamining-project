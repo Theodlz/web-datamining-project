{
 "cells": [
  {
   "cell_type": "markdown",
   "metadata": {},
   "source": [
    "### Imports"
   ]
  },
  {
   "cell_type": "code",
   "execution_count": 110,
   "metadata": {},
   "outputs": [],
   "source": [
    "import json\n",
    "import re"
   ]
  },
  {
   "cell_type": "markdown",
   "metadata": {},
   "source": [
    "### Data format conversion"
   ]
  },
  {
   "cell_type": "code",
   "execution_count": 111,
   "metadata": {},
   "outputs": [],
   "source": [
    "with open(\"../data_mining/full_places_with_opening_hours.json\", \"r\", encoding=\"utf-8\") as f:\n",
    "    original_data = json.load(f)"
   ]
  },
  {
   "cell_type": "code",
   "execution_count": 112,
   "metadata": {},
   "outputs": [
    {
     "name": "stdout",
     "output_type": "stream",
     "text": [
      "{'business_status': 'OPERATIONAL', 'formatted_address': '17 Rue Daunou, 75002 Paris', 'geometry': {'location': {'lat': 48.8698021, 'lng': 2.3308543}, 'viewport': {'northeast': {'lat': 48.87123317989273, 'lng': 2.331998329892722}, 'southwest': {'lat': 48.86853352010728, 'lng': 2.329298670107278}}}, 'icon': 'https://maps.gstatic.com/mapfiles/place_api/icons/v1/png_71/restaurant-71.png', 'icon_background_color': '#FF9E67', 'icon_mask_base_uri': 'https://maps.gstatic.com/mapfiles/place_api/icons/v2/restaurant_pinlet', 'name': 'Arty Le Restaurant', 'opening_hours': {'open_now': True, 'periods': [{'close': {'day': 2, 'time': '1500'}, 'open': {'day': 2, 'time': '1200'}}, {'close': {'day': 3, 'time': '0000'}, 'open': {'day': 2, 'time': '1800'}}, {'close': {'day': 3, 'time': '1500'}, 'open': {'day': 3, 'time': '1200'}}, {'close': {'day': 4, 'time': '0000'}, 'open': {'day': 3, 'time': '1800'}}, {'close': {'day': 4, 'time': '1500'}, 'open': {'day': 4, 'time': '1200'}}, {'close': {'day': 5, 'time': '0000'}, 'open': {'day': 4, 'time': '1800'}}, {'close': {'day': 5, 'time': '1500'}, 'open': {'day': 5, 'time': '1200'}}, {'close': {'day': 6, 'time': '0000'}, 'open': {'day': 5, 'time': '1800'}}, {'close': {'day': 6, 'time': '1600'}, 'open': {'day': 6, 'time': '1200'}}, {'close': {'day': 0, 'time': '0100'}, 'open': {'day': 6, 'time': '1800'}}], 'weekday_text': ['Monday: Closed', 'Tuesday: 12:00 – 3:00 PM, 6:00 PM – 12:00 AM', 'Wednesday: 12:00 – 3:00 PM, 6:00 PM – 12:00 AM', 'Thursday: 12:00 – 3:00 PM, 6:00 PM – 12:00 AM', 'Friday: 12:00 – 3:00 PM, 6:00 PM – 12:00 AM', 'Saturday: 12:00 – 4:00 PM, 6:00 PM – 1:00 AM', 'Sunday: Closed']}, 'photos': [{'height': 4800, 'html_attributions': ['<a href=\"https://maps.google.com/maps/contrib/112436725447966306773\">A Google User</a>'], 'photo_reference': 'Aap_uECJrtLB0dvrEsIhdfGj847vLJgrBhsiy-J_LV2vJLDyHMCEBWdDsBUsXEz826CH4WQ4MWgATkg4ZkjlNZ5BSKf6hSYJXW8oTKIgNclosIbcq1iXCuiknlh5hfxFkjl3asniKV5zcnrLB2FXqK5AUTt-JEojuQX_fqGg5d5vJEFR1xBL', 'width': 3200}], 'place_id': 'ChIJ0c2EGjFu5kcRKUHDt9qktn4', 'plus_code': {'compound_code': 'V89J+W8 Paris', 'global_code': '8FW4V89J+W8'}, 'rating': 4.1, 'reference': 'ChIJ0c2EGjFu5kcRKUHDt9qktn4', 'types': ['bar', 'restaurant', 'food', 'point_of_interest', 'establishment'], 'user_ratings_total': 369}\n"
     ]
    }
   ],
   "source": [
    "print(original_data[0])"
   ]
  },
  {
   "cell_type": "markdown",
   "metadata": {},
   "source": [
    "Creation of a place individual"
   ]
  },
  {
   "cell_type": "code",
   "execution_count": 113,
   "metadata": {},
   "outputs": [],
   "source": [
    "prefix = \"http://www.semanticweb.org/paulm/ontologies/2022/2/Final_project_restaurants#\"\n",
    "\n",
    "with open(\"template_place_individual.json\", \"r\", encoding=\"utf-8\") as f:\n",
    "    place_individual = json.load(f)"
   ]
  },
  {
   "cell_type": "code",
   "execution_count": 114,
   "metadata": {},
   "outputs": [],
   "source": [
    "id = original_data[0][\"name\"].replace(\" \", \"_\")\n",
    "place_individual[\"@id\"] = prefix + id\n",
    "if(\"restaurant\" in original_data[0][\"types\"]):\n",
    "    place_individual[\"@type\"].append(prefix + \"Restaurant\")\n",
    "if(\"bar\" in original_data[0][\"types\"]):\n",
    "    place_individual[\"@type\"].append(prefix + \"Bar\")\n",
    "if(\"Cafe\" in original_data[0][\"types\"]):\n",
    "    place_individual[\"@type\"].append(prefix + \"Cafe\")\n",
    "place_individual[prefix + \"business_status\"][0][\"@value\"] = original_data[0][\"business_status\"]\n",
    "place_individual[prefix + \"hasAddress\"][0][\"@id\"] = prefix + id + \"_address\"\n",
    "place_individual[prefix + \"hasOpeningHours\"][0][\"@id\"] = prefix + id + \"_opening_hours\"\n",
    "place_individual[prefix + \"name\"][0][\"@value\"] = original_data[0][\"name\"]\n",
    "place_individual[prefix + \"place_id\"][0][\"@value\"] = original_data[0][\"place_id\"]\n",
    "if(\"price_level\" in original_data[0]):\n",
    "    place_individual[prefix + \"price_level\"][0][\"@value\"] = original_data[0][\"price_level\"]\n",
    "if(\"rating\" in original_data[0]):\n",
    "    place_individual[prefix + \"rating_score\"][0][\"@value\"] = original_data[0][\"rating\"]\n",
    "if(\"user_ratings_total\" in original_data[0]):\n",
    "    place_individual[prefix + \"user_ratings_total\"][0][\"@value\"] = original_data[0][\"user_ratings_total\"]"
   ]
  },
  {
   "cell_type": "code",
   "execution_count": 115,
   "metadata": {},
   "outputs": [
    {
     "name": "stdout",
     "output_type": "stream",
     "text": [
      "{'@id': 'http://www.semanticweb.org/paulm/ontologies/2022/2/Final_project_restaurants#Arty_Le_Restaurant', '@type': ['http://www.w3.org/2002/07/owl#NamedIndividual', 'http://www.semanticweb.org/paulm/ontologies/2022/2/Final_project_restaurants#Restaurant', 'http://www.semanticweb.org/paulm/ontologies/2022/2/Final_project_restaurants#Bar'], 'http://www.semanticweb.org/paulm/ontologies/2022/2/Final_project_restaurants#business_status': [{'@value': 'OPERATIONAL'}], 'http://www.semanticweb.org/paulm/ontologies/2022/2/Final_project_restaurants#hasAddress': [{'@id': 'http://www.semanticweb.org/paulm/ontologies/2022/2/Final_project_restaurants#Arty_Le_Restaurant_address'}], 'http://www.semanticweb.org/paulm/ontologies/2022/2/Final_project_restaurants#hasOpeningHours': [{'@id': 'http://www.semanticweb.org/paulm/ontologies/2022/2/Final_project_restaurants#Arty_Le_Restaurant_opening_hours'}], 'http://www.semanticweb.org/paulm/ontologies/2022/2/Final_project_restaurants#name': [{'@value': 'Arty Le Restaurant'}], 'http://www.semanticweb.org/paulm/ontologies/2022/2/Final_project_restaurants#place_id': [{'@value': 'ChIJ0c2EGjFu5kcRKUHDt9qktn4'}], 'http://www.semanticweb.org/paulm/ontologies/2022/2/Final_project_restaurants#price_level': [{'@type': 'http://www.w3.org/2001/XMLSchema#integer', '@value': ''}], 'http://www.semanticweb.org/paulm/ontologies/2022/2/Final_project_restaurants#rating_score': [{'@type': 'http://www.w3.org/2001/XMLSchema#decimal', '@value': 4.1}], 'http://www.semanticweb.org/paulm/ontologies/2022/2/Final_project_restaurants#user_ratings_total': [{'@type': 'http://www.w3.org/2001/XMLSchema#integer', '@value': 369}]}\n"
     ]
    }
   ],
   "source": [
    "print(place_individual)"
   ]
  },
  {
   "cell_type": "markdown",
   "metadata": {},
   "source": [
    "Creation of his address individual"
   ]
  },
  {
   "cell_type": "code",
   "execution_count": 116,
   "metadata": {},
   "outputs": [],
   "source": [
    "with open(\"template_address_individual.json\", \"r\", encoding=\"utf-8\") as f:\n",
    "    address_individual = json.load(f)"
   ]
  },
  {
   "cell_type": "code",
   "execution_count": 117,
   "metadata": {},
   "outputs": [],
   "source": [
    "formatted_address = original_data[0][\"formatted_address\"]\n",
    "\n",
    "address_individual[\"@id\"] = prefix + id + \"_address\"\n",
    "address_individual[prefix + \"formatted_address\"][0][\"@value\"] = formatted_address\n",
    "address_individual[prefix + \"city\"][0][\"@value\"] = re.search(\"[0-9]{5}\\s(.*)\", formatted_address).group(1)\n",
    "address_individual[prefix + \"postal_code\"][0][\"@value\"] = int(re.search(\"[0-9]{5}\", formatted_address).group(0))\n",
    "address_individual[prefix + \"street_name\"][0][\"@value\"] = re.search(\"((([a-zA-Z]+)\\s?)+),\", formatted_address).group(1)\n",
    "address_individual[prefix + \"street_number\"][0][\"@value\"] = re.search(\"([0-9]+).*,\", formatted_address).group(1)\n",
    "address_individual[prefix + \"isAddressOf\"][0][\"@id\"] = prefix + id\n",
    "address_individual[prefix + \"lat\"][0][\"@value\"] = original_data[0][\"geometry\"][\"location\"][\"lat\"]\n",
    "address_individual[prefix + \"lng\"][0][\"@value\"] = original_data[0][\"geometry\"][\"location\"][\"lng\"]"
   ]
  },
  {
   "cell_type": "code",
   "execution_count": 118,
   "metadata": {},
   "outputs": [
    {
     "name": "stdout",
     "output_type": "stream",
     "text": [
      "{'@id': 'http://www.semanticweb.org/paulm/ontologies/2022/2/Final_project_restaurants#Arty_Le_Restaurant_address', '@type': ['http://www.w3.org/2002/07/owl#NamedIndividual', 'http://www.semanticweb.org/paulm/ontologies/2022/2/Final_project_restaurants#Address'], 'http://www.semanticweb.org/paulm/ontologies/2022/2/Final_project_restaurants#city': [{'@value': 'Paris'}], 'http://www.semanticweb.org/paulm/ontologies/2022/2/Final_project_restaurants#formatted_address': [{'@value': '17 Rue Daunou, 75002 Paris'}], 'http://www.semanticweb.org/paulm/ontologies/2022/2/Final_project_restaurants#isAddressOf': [{'@id': 'http://www.semanticweb.org/paulm/ontologies/2022/2/Final_project_restaurants#Arty_Le_Restaurant'}], 'http://www.semanticweb.org/paulm/ontologies/2022/2/Final_project_restaurants#lat': [{'@type': 'http://www.w3.org/2001/XMLSchema#decimal', '@value': 48.8698021}], 'http://www.semanticweb.org/paulm/ontologies/2022/2/Final_project_restaurants#lng': [{'@type': 'http://www.w3.org/2001/XMLSchema#decimal', '@value': 2.3308543}], 'http://www.semanticweb.org/paulm/ontologies/2022/2/Final_project_restaurants#postal_code': [{'@type': 'http://www.w3.org/2001/XMLSchema#integer', '@value': 75002}], 'http://www.semanticweb.org/paulm/ontologies/2022/2/Final_project_restaurants#street_name': [{'@value': 'Rue Daunou'}], 'http://www.semanticweb.org/paulm/ontologies/2022/2/Final_project_restaurants#street_number': [{'@type': 'http://www.w3.org/2001/XMLSchema#integer', '@value': '17'}]}\n"
     ]
    }
   ],
   "source": [
    "print(address_individual)"
   ]
  },
  {
   "cell_type": "markdown",
   "metadata": {},
   "source": [
    "Creation of his opening hours individual"
   ]
  },
  {
   "cell_type": "code",
   "execution_count": 119,
   "metadata": {},
   "outputs": [],
   "source": [
    "with open(\"template_opening_hours_individual.json\", \"r\", encoding=\"utf-8\") as f:\n",
    "    opening_hours_individual = json.load(f)"
   ]
  },
  {
   "cell_type": "code",
   "execution_count": 120,
   "metadata": {},
   "outputs": [],
   "source": [
    "opening_hours_individual[\"@id\"] = prefix + id + \"_opening_hours\"\n",
    "opening_hours_individual[prefix + \"isOpeningHoursOf\"][0][\"@id\"] = prefix + id\n",
    "opening_hours_individual[prefix + \"monday\"][0][\"@value\"] = original_data[0][\"opening_hours\"][\"weekday_text\"][0]\n",
    "opening_hours_individual[prefix + \"tuesday\"][0][\"@value\"] = original_data[0][\"opening_hours\"][\"weekday_text\"][1]\n",
    "opening_hours_individual[prefix + \"wednesday\"][0][\"@value\"] = original_data[0][\"opening_hours\"][\"weekday_text\"][2]\n",
    "opening_hours_individual[prefix + \"thursday\"][0][\"@value\"] = original_data[0][\"opening_hours\"][\"weekday_text\"][3]\n",
    "opening_hours_individual[prefix + \"friday\"][0][\"@value\"] = original_data[0][\"opening_hours\"][\"weekday_text\"][4]\n",
    "opening_hours_individual[prefix + \"saturday\"][0][\"@value\"] = original_data[0][\"opening_hours\"][\"weekday_text\"][5]\n",
    "opening_hours_individual[prefix + \"sunday\"][0][\"@value\"] = original_data[0][\"opening_hours\"][\"weekday_text\"][6]"
   ]
  },
  {
   "cell_type": "code",
   "execution_count": 121,
   "metadata": {},
   "outputs": [
    {
     "name": "stdout",
     "output_type": "stream",
     "text": [
      "{'@id': 'http://www.semanticweb.org/paulm/ontologies/2022/2/Final_project_restaurants#Arty_Le_Restaurant_opening_hours', '@type': ['http://www.w3.org/2002/07/owl#NamedIndividual', 'http://www.semanticweb.org/paulm/ontologies/2022/2/Final_project_restaurants#Opening_hours'], 'http://www.semanticweb.org/paulm/ontologies/2022/2/Final_project_restaurants#isOpeningHoursOf': [{'@id': 'http://www.semanticweb.org/paulm/ontologies/2022/2/Final_project_restaurants#Arty_Le_Restaurant'}], 'http://www.semanticweb.org/paulm/ontologies/2022/2/Final_project_restaurants#sunday': [{'@value': 'Sunday: Closed'}], 'http://www.semanticweb.org/paulm/ontologies/2022/2/Final_project_restaurants#monday': [{'@value': 'Monday: Closed'}], 'http://www.semanticweb.org/paulm/ontologies/2022/2/Final_project_restaurants#tuesday': [{'@value': 'Tuesday: 12:00 – 3:00 PM, 6:00 PM – 12:00 AM'}], 'http://www.semanticweb.org/paulm/ontologies/2022/2/Final_project_restaurants#wednesday': [{'@value': 'Wednesday: 12:00 – 3:00 PM, 6:00 PM – 12:00 AM'}], 'http://www.semanticweb.org/paulm/ontologies/2022/2/Final_project_restaurants#thursday': [{'@value': 'Thursday: 12:00 – 3:00 PM, 6:00 PM – 12:00 AM'}], 'http://www.semanticweb.org/paulm/ontologies/2022/2/Final_project_restaurants#friday': [{'@value': 'Friday: 12:00 – 3:00 PM, 6:00 PM – 12:00 AM'}], 'http://www.semanticweb.org/paulm/ontologies/2022/2/Final_project_restaurants#saturday': [{'@value': 'Saturday: 12:00 – 4:00 PM, 6:00 PM – 1:00 AM'}]}\n"
     ]
    }
   ],
   "source": [
    "print(opening_hours_individual)"
   ]
  },
  {
   "cell_type": "markdown",
   "metadata": {},
   "source": [
    "Insertion in the JSON LD owl file"
   ]
  },
  {
   "cell_type": "code",
   "execution_count": 122,
   "metadata": {},
   "outputs": [],
   "source": [
    "with open(\"../ontology/ontology_json_ld.owl\", \"r\", encoding=\"utf-8\") as f:\n",
    "    ontology = json.load(f)"
   ]
  },
  {
   "cell_type": "code",
   "execution_count": 123,
   "metadata": {},
   "outputs": [
    {
     "name": "stdout",
     "output_type": "stream",
     "text": [
      "{'@id': 'http://www.semanticweb.org/paulm/ontologies/2022/2/Final_project_restaurants#wednesday', '@type': ['http://www.w3.org/2002/07/owl#DatatypeProperty'], 'http://www.w3.org/2000/01/rdf-schema#domain': [{'@id': 'http://www.semanticweb.org/paulm/ontologies/2022/2/Final_project_restaurants#Opening_hours'}], 'http://www.w3.org/2000/01/rdf-schema#range': [{'@id': 'http://www.w3.org/2001/XMLSchema#string'}]}\n"
     ]
    }
   ],
   "source": [
    "print(ontology[-1])"
   ]
  },
  {
   "cell_type": "code",
   "execution_count": 124,
   "metadata": {},
   "outputs": [],
   "source": [
    "ontology.append(place_individual)\n",
    "ontology.append(address_individual)\n",
    "ontology.append(opening_hours_individual)"
   ]
  },
  {
   "cell_type": "code",
   "execution_count": 125,
   "metadata": {},
   "outputs": [],
   "source": [
    "with open(\"../ontology/test_json_ld.owl\", \"w\", encoding=\"utf-8\") as f:\n",
    "    ontology = json.dump(ontology, f, indent=0)"
   ]
  },
  {
   "cell_type": "code",
   "execution_count": null,
   "metadata": {},
   "outputs": [],
   "source": []
  }
 ],
 "metadata": {
  "interpreter": {
   "hash": "8bbed11fe0bbdc53fcde639253b3c75e80b85d7a88fc0724e2d070c9a5d9b10b"
  },
  "kernelspec": {
   "display_name": "Python 3.9.6 64-bit",
   "language": "python",
   "name": "python3"
  },
  "language_info": {
   "codemirror_mode": {
    "name": "ipython",
    "version": 3
   },
   "file_extension": ".py",
   "mimetype": "text/x-python",
   "name": "python",
   "nbconvert_exporter": "python",
   "pygments_lexer": "ipython3",
   "version": "3.9.6"
  },
  "orig_nbformat": 4
 },
 "nbformat": 4,
 "nbformat_minor": 2
}
