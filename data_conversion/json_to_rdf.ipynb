{
 "cells": [
  {
   "cell_type": "markdown",
   "metadata": {},
   "source": [
    "### Imports"
   ]
  },
  {
   "cell_type": "code",
   "execution_count": null,
   "metadata": {},
   "outputs": [],
   "source": [
    "import json\n",
    "import re\n",
    "# import rdflib"
   ]
  },
  {
   "cell_type": "markdown",
   "metadata": {},
   "source": [
    "### Data format conversion"
   ]
  },
  {
   "cell_type": "code",
   "execution_count": null,
   "metadata": {},
   "outputs": [],
   "source": [
    "with open(\"../data_mining/full_places_with_opening_hours.json\", \"r\", encoding=\"utf-8\") as f:\n",
    "    original_data = json.load(f)"
   ]
  },
  {
   "cell_type": "code",
   "execution_count": null,
   "metadata": {},
   "outputs": [],
   "source": [
    "tested_individual = 1487\n",
    "print(original_data[tested_individual])"
   ]
  },
  {
   "cell_type": "markdown",
   "metadata": {},
   "source": [
    "Creation of a place individual"
   ]
  },
  {
   "cell_type": "code",
   "execution_count": null,
   "metadata": {},
   "outputs": [],
   "source": [
    "prefix = \"http://www.semanticweb.org/paulm/ontologies/2022/2/Final_project_restaurants#\"\n",
    "\n",
    "with open(\"template_place_individual.json\", \"r\", encoding=\"utf-8\") as f:\n",
    "    place_individual = json.load(f)"
   ]
  },
  {
   "cell_type": "code",
   "execution_count": null,
   "metadata": {},
   "outputs": [],
   "source": [
    "id = original_data[tested_individual][\"name\"].replace(\" \", \"_\")\n",
    "place_individual[\"@id\"] = prefix + id\n",
    "if(\"restaurant\" in original_data[tested_individual][\"types\"]):\n",
    "    place_individual[\"@type\"].append(prefix + \"Restaurant\")\n",
    "if(\"bar\" in original_data[tested_individual][\"types\"]):\n",
    "    place_individual[\"@type\"].append(prefix + \"Bar\")\n",
    "if(\"Cafe\" in original_data[tested_individual][\"types\"]):\n",
    "    place_individual[\"@type\"].append(prefix + \"Cafe\")\n",
    "place_individual[prefix + \"business_status\"][0][\"@value\"] = original_data[tested_individual][\"business_status\"]\n",
    "place_individual[prefix + \"hasAddress\"][0][\"@id\"] = prefix + id + \"_address\"\n",
    "place_individual[prefix + \"hasOpeningHours\"][0][\"@id\"] = prefix + id + \"_opening_hours\"\n",
    "place_individual[prefix + \"name\"][0][\"@value\"] = original_data[tested_individual][\"name\"]\n",
    "place_individual[prefix + \"place_id\"][0][\"@value\"] = original_data[tested_individual][\"place_id\"]\n",
    "if(\"price_level\" in original_data[tested_individual]):\n",
    "    place_individual[prefix + \"price_level\"][0][\"@value\"] = str(original_data[tested_individual][\"price_level\"])\n",
    "if(\"rating\" in original_data[tested_individual]):\n",
    "    place_individual[prefix + \"rating_score\"][0][\"@value\"] = str(original_data[tested_individual][\"rating\"])\n",
    "if(\"user_ratings_total\" in original_data[tested_individual]):\n",
    "    place_individual[prefix + \"user_ratings_total\"][0][\"@value\"] = str(original_data[tested_individual][\"user_ratings_total\"])"
   ]
  },
  {
   "cell_type": "code",
   "execution_count": null,
   "metadata": {},
   "outputs": [],
   "source": [
    "print(place_individual)"
   ]
  },
  {
   "cell_type": "markdown",
   "metadata": {},
   "source": [
    "Creation of his address individual"
   ]
  },
  {
   "cell_type": "code",
   "execution_count": null,
   "metadata": {},
   "outputs": [],
   "source": [
    "with open(\"template_address_individual.json\", \"r\", encoding=\"utf-8\") as f:\n",
    "    address_individual = json.load(f)"
   ]
  },
  {
   "cell_type": "code",
   "execution_count": null,
   "metadata": {},
   "outputs": [],
   "source": [
    "formatted_address = original_data[tested_individual][\"formatted_address\"]\n",
    "\n",
    "address_individual[\"@id\"] = prefix + id + \"_address\"\n",
    "address_individual[prefix + \"formatted_address\"][0][\"@value\"] = formatted_address\n",
    "address_individual[prefix + \"city\"][0][\"@value\"] = re.search(\"\\d{5}\\s(.*)\", formatted_address).group(1)\n",
    "address_individual[prefix + \"postal_code\"][0][\"@value\"] = re.search(\"\\d{5}\", formatted_address).group(0)\n",
    "address_individual[prefix + \"street_name\"][0][\"@value\"] = re.search(\"(\\d*\\s?)((([^\\s^-]+)\\s?)+),\", formatted_address).group(1)\n",
    "address_individual[prefix + \"street_number\"][0][\"@value\"] = re.search(\"(\\d*).*,\", formatted_address).group(1)\n",
    "address_individual[prefix + \"isAddressOf\"][0][\"@id\"] = prefix + id\n",
    "address_individual[prefix + \"lat\"][0][\"@value\"] = str(original_data[tested_individual][\"geometry\"][\"location\"][\"lat\"])\n",
    "address_individual[prefix + \"lng\"][0][\"@value\"] = str(original_data[tested_individual][\"geometry\"][\"location\"][\"lng\"])"
   ]
  },
  {
   "cell_type": "code",
   "execution_count": null,
   "metadata": {},
   "outputs": [],
   "source": [
    "print(address_individual)"
   ]
  },
  {
   "cell_type": "markdown",
   "metadata": {},
   "source": [
    "Creation of his opening hours individual"
   ]
  },
  {
   "cell_type": "code",
   "execution_count": null,
   "metadata": {},
   "outputs": [],
   "source": [
    "with open(\"template_opening_hours_individual.json\", \"r\", encoding=\"utf-8\") as f:\n",
    "    opening_hours_individual = json.load(f)"
   ]
  },
  {
   "cell_type": "code",
   "execution_count": null,
   "metadata": {},
   "outputs": [],
   "source": [
    "opening_hours_individual[\"@id\"] = prefix + id + \"_opening_hours\"\n",
    "opening_hours_individual[prefix + \"isOpeningHoursOf\"][0][\"@id\"] = prefix + id\n",
    "opening_hours_individual[prefix + \"monday\"][0][\"@value\"] = original_data[tested_individual][\"opening_hours\"][\"weekday_text\"][0]\n",
    "opening_hours_individual[prefix + \"tuesday\"][0][\"@value\"] = original_data[tested_individual][\"opening_hours\"][\"weekday_text\"][1]\n",
    "opening_hours_individual[prefix + \"wednesday\"][0][\"@value\"] = original_data[tested_individual][\"opening_hours\"][\"weekday_text\"][2]\n",
    "opening_hours_individual[prefix + \"thursday\"][0][\"@value\"] = original_data[tested_individual][\"opening_hours\"][\"weekday_text\"][3]\n",
    "opening_hours_individual[prefix + \"friday\"][0][\"@value\"] = original_data[tested_individual][\"opening_hours\"][\"weekday_text\"][4]\n",
    "opening_hours_individual[prefix + \"saturday\"][0][\"@value\"] = original_data[tested_individual][\"opening_hours\"][\"weekday_text\"][5]\n",
    "opening_hours_individual[prefix + \"sunday\"][0][\"@value\"] = original_data[tested_individual][\"opening_hours\"][\"weekday_text\"][6]"
   ]
  },
  {
   "cell_type": "code",
   "execution_count": null,
   "metadata": {},
   "outputs": [],
   "source": [
    "print(opening_hours_individual)"
   ]
  },
  {
   "cell_type": "markdown",
   "metadata": {},
   "source": [
    "Insertion in the JSON LD owl file"
   ]
  },
  {
   "cell_type": "code",
   "execution_count": null,
   "metadata": {},
   "outputs": [],
   "source": [
    "with open(\"../ontology/ontology_json_ld.owl\", \"r\", encoding=\"utf-8\") as f:\n",
    "    ontology = json.load(f)"
   ]
  },
  {
   "cell_type": "code",
   "execution_count": null,
   "metadata": {},
   "outputs": [],
   "source": [
    "ontology.append(place_individual)\n",
    "ontology.append(address_individual)\n",
    "ontology.append(opening_hours_individual)"
   ]
  },
  {
   "cell_type": "code",
   "execution_count": null,
   "metadata": {},
   "outputs": [],
   "source": [
    "with open(\"../ontology/test_json_ld.owl\", \"w\", encoding=\"utf-8\") as f:\n",
    "    json.dump(ontology, f)"
   ]
  }
 ],
 "metadata": {
  "interpreter": {
   "hash": "8bbed11fe0bbdc53fcde639253b3c75e80b85d7a88fc0724e2d070c9a5d9b10b"
  },
  "kernelspec": {
   "display_name": "Python 3.9.6 64-bit",
   "language": "python",
   "name": "python3"
  },
  "language_info": {
   "codemirror_mode": {
    "name": "ipython",
    "version": 3
   },
   "file_extension": ".py",
   "mimetype": "text/x-python",
   "name": "python",
   "nbconvert_exporter": "python",
   "pygments_lexer": "ipython3",
   "version": "3.9.6"
  },
  "orig_nbformat": 4
 },
 "nbformat": 4,
 "nbformat_minor": 2
}
