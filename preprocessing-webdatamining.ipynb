{
 "cells": [
  {
   "cell_type": "code",
   "execution_count": 1,
   "metadata": {},
   "outputs": [],
   "source": [
    "import json"
   ]
  },
  {
   "cell_type": "code",
   "execution_count": 40,
   "metadata": {},
   "outputs": [],
   "source": [
    "with open('full_places_with_opening_hours.json','r') as f:\n",
    "    data=json.load(f)\n"
   ]
  },
  {
   "cell_type": "code",
   "execution_count": 13,
   "metadata": {},
   "outputs": [
    {
     "name": "stdout",
     "output_type": "stream",
     "text": [
      "1563\n"
     ]
    }
   ],
   "source": [
    "print(len(data))"
   ]
  },
  {
   "cell_type": "code",
   "execution_count": 19,
   "metadata": {},
   "outputs": [
    {
     "name": "stdout",
     "output_type": "stream",
     "text": [
      "{'business_status': 'OPERATIONAL', 'formatted_address': '17 Rue Daunou, 75002 Paris', 'geometry': {'location': {'lat': 48.8698021, 'lng': 2.3308543}, 'viewport': {'northeast': {'lat': 48.87123317989273, 'lng': 2.331998329892722}, 'southwest': {'lat': 48.86853352010728, 'lng': 2.329298670107278}}}, 'icon': 'https://maps.gstatic.com/mapfiles/place_api/icons/v1/png_71/restaurant-71.png', 'icon_background_color': '#FF9E67', 'icon_mask_base_uri': 'https://maps.gstatic.com/mapfiles/place_api/icons/v2/restaurant_pinlet', 'name': 'Arty Le Restaurant', 'opening_hours': {'open_now': True, 'periods': [{'close': {'day': 2, 'time': '1500'}, 'open': {'day': 2, 'time': '1200'}}, {'close': {'day': 3, 'time': '0000'}, 'open': {'day': 2, 'time': '1800'}}, {'close': {'day': 3, 'time': '1500'}, 'open': {'day': 3, 'time': '1200'}}, {'close': {'day': 4, 'time': '0000'}, 'open': {'day': 3, 'time': '1800'}}, {'close': {'day': 4, 'time': '1500'}, 'open': {'day': 4, 'time': '1200'}}, {'close': {'day': 5, 'time': '0000'}, 'open': {'day': 4, 'time': '1800'}}, {'close': {'day': 5, 'time': '1500'}, 'open': {'day': 5, 'time': '1200'}}, {'close': {'day': 6, 'time': '0000'}, 'open': {'day': 5, 'time': '1800'}}, {'close': {'day': 6, 'time': '1600'}, 'open': {'day': 6, 'time': '1200'}}, {'close': {'day': 0, 'time': '0100'}, 'open': {'day': 6, 'time': '1800'}}], 'weekday_text': ['Monday: Closed', 'Tuesday: 12:00 – 3:00 PM, 6:00 PM – 12:00 AM', 'Wednesday: 12:00 – 3:00 PM, 6:00 PM – 12:00 AM', 'Thursday: 12:00 – 3:00 PM, 6:00 PM – 12:00 AM', 'Friday: 12:00 – 3:00 PM, 6:00 PM – 12:00 AM', 'Saturday: 12:00 – 4:00 PM, 6:00 PM – 1:00 AM', 'Sunday: Closed']}, 'photos': [{'height': 4800, 'html_attributions': ['<a href=\"https://maps.google.com/maps/contrib/112436725447966306773\">A Google User</a>'], 'photo_reference': 'Aap_uECJrtLB0dvrEsIhdfGj847vLJgrBhsiy-J_LV2vJLDyHMCEBWdDsBUsXEz826CH4WQ4MWgATkg4ZkjlNZ5BSKf6hSYJXW8oTKIgNclosIbcq1iXCuiknlh5hfxFkjl3asniKV5zcnrLB2FXqK5AUTt-JEojuQX_fqGg5d5vJEFR1xBL', 'width': 3200}], 'place_id': 'ChIJ0c2EGjFu5kcRKUHDt9qktn4', 'plus_code': {'compound_code': 'V89J+W8 Paris', 'global_code': '8FW4V89J+W8'}, 'rating': 4.1, 'reference': 'ChIJ0c2EGjFu5kcRKUHDt9qktn4', 'types': ['bar', 'restaurant', 'food', 'point_of_interest', 'establishment'], 'user_ratings_total': 369}\n"
     ]
    }
   ],
   "source": [
    "print(data[0])"
   ]
  },
  {
   "cell_type": "code",
   "execution_count": 47,
   "metadata": {},
   "outputs": [],
   "source": [
    "unique_place_id=set()    #permet d'avoir les placeID uniques, afin de pouvoir éliminer les doublons par la suite\n",
    "\n",
    "for place in list(data):\n",
    "    if place['place_id'] not in unique_place_id:    # si le place_id n'est pas encore dans le set, alors ce n'est pas un doublon\n",
    "        unique_place_id.add(place['place_id'])      # on le rajoute donc à notre set\n",
    "        if place['business_status']==\"CLOSED_PERMANENTLY\":  # si le place est fermé définitivement, on le retire de data\n",
    "            data.remove(place)\n",
    "            \n",
    "    else:   # si le place_id est déjà dans le set, alors c'est un doublon, donc on le retire de data\n",
    "        data.remove(place)"
   ]
  },
  {
   "cell_type": "code",
   "execution_count": 48,
   "metadata": {},
   "outputs": [
    {
     "name": "stdout",
     "output_type": "stream",
     "text": [
      "1258\n"
     ]
    }
   ],
   "source": [
    "print(len(data))"
   ]
  },
  {
   "cell_type": "code",
   "execution_count": 52,
   "metadata": {},
   "outputs": [],
   "source": [
    "with open('full_places_preprocessed.json','w') as f:\n",
    "    json.dump(data,f, indent=2)"
   ]
  }
 ],
 "metadata": {
  "interpreter": {
   "hash": "33aad9ec09bb7ce5921e16d377bc62a6ff99f607d46e11981c435adf9dc8b394"
  },
  "kernelspec": {
   "display_name": "Python 3.9.7 ('base')",
   "language": "python",
   "name": "python3"
  },
  "language_info": {
   "codemirror_mode": {
    "name": "ipython",
    "version": 3
   },
   "file_extension": ".py",
   "mimetype": "text/x-python",
   "name": "python",
   "nbconvert_exporter": "python",
   "pygments_lexer": "ipython3",
   "version": "3.9.7"
  },
  "orig_nbformat": 4
 },
 "nbformat": 4,
 "nbformat_minor": 2
}
